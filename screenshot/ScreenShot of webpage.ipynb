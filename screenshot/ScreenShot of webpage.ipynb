{
 "cells": [
  {
   "cell_type": "code",
   "execution_count": 6,
   "id": "ffb2703f-65d7-49d8-b58e-2c8aa538a07f",
   "metadata": {},
   "outputs": [],
   "source": [
    "from selenium import webdriver\n",
    "from selenium.webdriver.common.by import By\n",
    "from selenium.webdriver.chrome.service import Service"
   ]
  },
  {
   "cell_type": "code",
   "execution_count": 7,
   "id": "6fd65bb8-7c00-4d36-965d-73387f13fb39",
   "metadata": {},
   "outputs": [],
   "source": [
    "path= r\"C:\\chromedriver-win64\\chromedriver.exe\""
   ]
  },
  {
   "cell_type": "code",
   "execution_count": 26,
   "id": "3ff18092-b744-4f6a-9905-598df519d479",
   "metadata": {},
   "outputs": [],
   "source": [
    "\n",
    "# Initialize the ChromeDriver service with the specified path and optional arguments\n",
    "service = Service(path, log_path='NUL', args=['--verbose', '--log-path=' + path])\n",
    "\n",
    "# Initialize Chrome WebDriver with the service\n",
    "driver = webdriver.Chrome(service=service)\n"
   ]
  },
  {
   "cell_type": "code",
   "execution_count": 27,
   "id": "3c2b7950-eebe-45f7-b61d-263c40c1dcfb",
   "metadata": {},
   "outputs": [],
   "source": [
    "driver.get(\"https://www.google.com/\")"
   ]
  },
  {
   "cell_type": "code",
   "execution_count": 28,
   "id": "c6a75cde-91ae-4416-b9c2-70369bb935da",
   "metadata": {},
   "outputs": [
    {
     "data": {
      "text/plain": [
       "True"
      ]
     },
     "execution_count": 28,
     "metadata": {},
     "output_type": "execute_result"
    }
   ],
   "source": [
    "driver.save_screenshot(\"Screenshot.png\")"
   ]
  },
  {
   "cell_type": "code",
   "execution_count": 29,
   "id": "2b90c93e-975a-47d5-9827-6393a38b482f",
   "metadata": {},
   "outputs": [],
   "source": [
    "driver.quit()"
   ]
  },
  {
   "cell_type": "code",
   "execution_count": null,
   "id": "b0bd99b3-271b-44ed-b9f4-4d6bcf697640",
   "metadata": {},
   "outputs": [],
   "source": []
  }
 ],
 "metadata": {
  "kernelspec": {
   "display_name": "Python 3 (ipykernel)",
   "language": "python",
   "name": "python3"
  },
  "language_info": {
   "codemirror_mode": {
    "name": "ipython",
    "version": 3
   },
   "file_extension": ".py",
   "mimetype": "text/x-python",
   "name": "python",
   "nbconvert_exporter": "python",
   "pygments_lexer": "ipython3",
   "version": "3.9.0"
  }
 },
 "nbformat": 4,
 "nbformat_minor": 5
}
